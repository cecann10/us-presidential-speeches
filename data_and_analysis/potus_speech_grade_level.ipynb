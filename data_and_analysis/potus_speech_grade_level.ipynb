{
 "cells": [
  {
   "cell_type": "markdown",
   "metadata": {},
   "source": [
    "# Presidential Speeches: Sophistication of Speech\n",
    "This notebook is used for finding the 'readability level' for the text on 991 Presidental speeches that span all US Presidents from George Washington to Donald Trump mid-term 2019.  Readability level = the grade a person would have had to had in order to fully understand the text."
   ]
  },
  {
   "cell_type": "markdown",
   "metadata": {},
   "source": [
    "### Setup:"
   ]
  },
  {
   "cell_type": "code",
   "execution_count": 1,
   "metadata": {
    "collapsed": true,
    "jupyter": {
     "outputs_hidden": true
    }
   },
   "outputs": [
    {
     "name": "stdout",
     "output_type": "stream",
     "text": [
      "Collecting textstat\n",
      "  Downloading textstat-0.6.2-py3-none-any.whl (102 kB)\n",
      "\u001b[K     |████████████████████████████████| 102 kB 3.9 MB/s ta 0:00:01\n",
      "\u001b[?25hCollecting pyphen\n",
      "  Downloading Pyphen-0.9.5-py2.py3-none-any.whl (3.0 MB)\n",
      "\u001b[K     |████████████████████████████████| 3.0 MB 15.6 MB/s eta 0:00:01\n",
      "\u001b[?25hInstalling collected packages: pyphen, textstat\n",
      "Successfully installed pyphen-0.9.5 textstat-0.6.2\n"
     ]
    }
   ],
   "source": [
    "# install textstat if needed by un-hashing and running:\n",
    "# !pip install textstat"
   ]
  },
  {
   "cell_type": "code",
   "execution_count": 2,
   "metadata": {},
   "outputs": [],
   "source": [
    "import textstat\n",
    "import pandas as pd"
   ]
  },
  {
   "cell_type": "markdown",
   "metadata": {},
   "source": [
    "### Data & Analysis:"
   ]
  },
  {
   "cell_type": "code",
   "execution_count": 3,
   "metadata": {},
   "outputs": [],
   "source": [
    "# open original (pre-cleaned) transcript files for presidential speeches\n",
    "\n",
    "transcripts_original = pd.read_csv('csv/transcripts.csv')"
   ]
  },
  {
   "cell_type": "code",
   "execution_count": 4,
   "metadata": {},
   "outputs": [],
   "source": [
    "# find the reability score grade-level equivalent for each speech\n",
    "#   place all scores in a dataframe \n",
    "\n",
    "grade_levels = []\n",
    "\n",
    "for transcript in transcripts_original.Transcript:\n",
    "    grade_level = textstat.text_standard(transcript, float_output=False)\n",
    "    grade_levels.append(grade_level)\n",
    "    \n",
    "grade_levels_df = pd.DataFrame(grade_levels, columns=['grade_level'])"
   ]
  },
  {
   "cell_type": "code",
   "execution_count": 5,
   "metadata": {},
   "outputs": [
    {
     "data": {
      "text/plain": [
       "array(['26th and 27th grade', '44th and 45th grade',\n",
       "       '22nd and 23rd grade', '15th and 16th grade',\n",
       "       '12th and 13th grade', '18th and 19th grade',\n",
       "       '23rd and 24th grade', '17th and 18th grade',\n",
       "       '16th and 17th grade', '38th and 39th grade', '-1th and 0th grade',\n",
       "       '25th and 26th grade', '11th and 12th grade',\n",
       "       '27th and 28th grade', '19th and 20th grade',\n",
       "       '14th and 15th grade', '10th and 11th grade', '6th and 7th grade',\n",
       "       '13th and 14th grade', '21st and 22nd grade',\n",
       "       '36th and 37th grade', '24th and 25th grade',\n",
       "       '79th and 80th grade', '30th and 31st grade',\n",
       "       '20th and 21st grade', '31st and 32nd grade',\n",
       "       '28th and 29th grade', '34th and 35th grade', '8th and 9th grade',\n",
       "       '35th and 36th grade', '29th and 30th grade',\n",
       "       '48th and 49th grade', '9th and 10th grade', '32nd and 33rd grade',\n",
       "       '7th and 8th grade', '5th and 6th grade'], dtype=object)"
      ]
     },
     "execution_count": 5,
     "metadata": {},
     "output_type": "execute_result"
    }
   ],
   "source": [
    "# see the range of grade levels created\n",
    "\n",
    "grade_levels_df.grade_level.unique()"
   ]
  },
  {
   "cell_type": "markdown",
   "metadata": {},
   "source": [
    "#### Takeaways:\n",
    "- Quite a range from -1th grade to 49th grade.  Will bin these to make them easier to evaluate."
   ]
  },
  {
   "cell_type": "code",
   "execution_count": 91,
   "metadata": {},
   "outputs": [],
   "source": [
    "# for all grades over '12th and 13th grade' level:\n",
    "\n",
    "grade_levels_df.loc[(grade_levels_df.grade_level == '44th and 45th grade'),'grade_level']='college-level or higher'\n",
    "grade_levels_df.loc[(grade_levels_df.grade_level == '26th and 27th grade'),'grade_level']='college-level or higher'\n",
    "grade_levels_df.loc[(grade_levels_df.grade_level == '20th and 21st grade'),'grade_level']='college-level or higher'\n",
    "grade_levels_df.loc[(grade_levels_df.grade_level == '22nd and 23rd grade'),'grade_level']='college-level or higher'\n",
    "grade_levels_df.loc[(grade_levels_df.grade_level == '15th and 16th grade'),'grade_level']='college-level or higher'\n",
    "grade_levels_df.loc[(grade_levels_df.grade_level == '18th and 19th grade'),'grade_level']='college-level or higher'\n",
    "grade_levels_df.loc[(grade_levels_df.grade_level == '23rd and 24th grade'),'grade_level']='college-level or higher'\n",
    "grade_levels_df.loc[(grade_levels_df.grade_level == '17th and 18th grade'),'grade_level']='college-level or higher'\n",
    "grade_levels_df.loc[(grade_levels_df.grade_level == '16th and 17th grade'),'grade_level']='college-level or higher'\n",
    "grade_levels_df.loc[(grade_levels_df.grade_level == '38th and 39th grade'),'grade_level']='college-level or higher'\n",
    "grade_levels_df.loc[(grade_levels_df.grade_level == '25th and 26th grade'),'grade_level']='college-level or higher'\n",
    "grade_levels_df.loc[(grade_levels_df.grade_level == '27th and 28th grade'),'grade_level']='college-level or higher'\n",
    "grade_levels_df.loc[(grade_levels_df.grade_level == '19th and 20th grade'),'grade_level']='college-level or higher'\n",
    "grade_levels_df.loc[(grade_levels_df.grade_level == '14th and 15th grade'),'grade_level']='college-level or higher'\n",
    "grade_levels_df.loc[(grade_levels_df.grade_level == '21st and 22nd grade'),'grade_level']='college-level or higher'\n",
    "grade_levels_df.loc[(grade_levels_df.grade_level == '36th and 37th grade'),'grade_level']='college-level or higher'\n",
    "grade_levels_df.loc[(grade_levels_df.grade_level == '24th and 25th grade'),'grade_level']='college-level or higher'\n",
    "grade_levels_df.loc[(grade_levels_df.grade_level == '79th and 80th grade'),'grade_level']='college-level or higher'\n",
    "grade_levels_df.loc[(grade_levels_df.grade_level == '30th and 31st grade'),'grade_level']='college-level or higher'\n",
    "grade_levels_df.loc[(grade_levels_df.grade_level == '28th and 29th grade'),'grade_level']='college-level or higher'\n",
    "grade_levels_df.loc[(grade_levels_df.grade_level == '34th and 35th grade'),'grade_level']='college-level or higher'\n",
    "grade_levels_df.loc[(grade_levels_df.grade_level == '35th and 36th grade'),'grade_level']='college-level or higher'\n",
    "grade_levels_df.loc[(grade_levels_df.grade_level == '29th and 30th grade'),'grade_level']='college-level or higher'\n",
    "grade_levels_df.loc[(grade_levels_df.grade_level == '48th and 49th grade'),'grade_level']='college-level or higher'\n",
    "grade_levels_df.loc[(grade_levels_df.grade_level == '32nd and 33rd grade'),'grade_level']='college-level or higher'\n",
    "grade_levels_df.loc[(grade_levels_df.grade_level == '31st and 32nd grade'),'grade_level']='college-level or higher'\n"
   ]
  },
  {
   "cell_type": "code",
   "execution_count": 92,
   "metadata": {},
   "outputs": [],
   "source": [
    "# for all grades under 5th grade level:\n",
    "\n",
    "grade_levels_df.loc[(grade_levels_df.grade_level == '-1th and 0th grade'),'grade_level']='4th grade and below'"
   ]
  },
  {
   "cell_type": "code",
   "execution_count": 101,
   "metadata": {},
   "outputs": [
    {
     "data": {
      "text/plain": [
       "college-level or higher    391\n",
       "12th and 13th grade        116\n",
       "11th and 12th grade        102\n",
       "8th and 9th grade           97\n",
       "10th and 11th grade         87\n",
       "9th and 10th grade          76\n",
       "13th and 14th grade         47\n",
       "7th and 8th grade           33\n",
       "6th and 7th grade           32\n",
       "5th and 6th grade            9\n",
       "4th grade and below          1\n",
       "Name: grade_level, dtype: int64"
      ]
     },
     "execution_count": 101,
     "metadata": {},
     "output_type": "execute_result"
    }
   ],
   "source": [
    "# print unique values again to ensure we've corrected all the labels as intended\n",
    "#   and also see each value's count\n",
    "\n",
    "grade_levels_df.grade_level.value_counts()"
   ]
  },
  {
   "cell_type": "code",
   "execution_count": 102,
   "metadata": {},
   "outputs": [],
   "source": [
    "# open master dataframe with speech information -- we'll be adding the topics to this\n",
    "\n",
    "potus_speech_master_FINAL = pd.read_csv('csv/potus_speech_master_topic_sentiment.csv')"
   ]
  },
  {
   "cell_type": "code",
   "execution_count": 103,
   "metadata": {},
   "outputs": [],
   "source": [
    "# add first grade-level listing to master dataframe\n",
    "\n",
    "potus_speech_master_FINAL['grade_level'] = grade_levels_df['grade_level']"
   ]
  },
  {
   "cell_type": "code",
   "execution_count": 104,
   "metadata": {},
   "outputs": [],
   "source": [
    "# remove unnecessary first column repeating index\n",
    "\n",
    "potus_speech_master_FINAL.drop(columns='Unnamed: 0', inplace= True)"
   ]
  },
  {
   "cell_type": "code",
   "execution_count": 105,
   "metadata": {},
   "outputs": [
    {
     "data": {
      "text/html": [
       "<div>\n",
       "<style scoped>\n",
       "    .dataframe tbody tr th:only-of-type {\n",
       "        vertical-align: middle;\n",
       "    }\n",
       "\n",
       "    .dataframe tbody tr th {\n",
       "        vertical-align: top;\n",
       "    }\n",
       "\n",
       "    .dataframe thead th {\n",
       "        text-align: right;\n",
       "    }\n",
       "</style>\n",
       "<table border=\"1\" class=\"dataframe\">\n",
       "  <thead>\n",
       "    <tr style=\"text-align: right;\">\n",
       "      <th></th>\n",
       "      <th>Date</th>\n",
       "      <th>President</th>\n",
       "      <th>Party</th>\n",
       "      <th>Speech Title</th>\n",
       "      <th>Transcript</th>\n",
       "      <th>polarity</th>\n",
       "      <th>subjectivity</th>\n",
       "      <th>Topic</th>\n",
       "      <th>Topic_Percent</th>\n",
       "      <th>Topic_Category</th>\n",
       "      <th>Historical_Period</th>\n",
       "      <th>grade_level</th>\n",
       "    </tr>\n",
       "  </thead>\n",
       "  <tbody>\n",
       "    <tr>\n",
       "      <th>0</th>\n",
       "      <td>1789-04-30</td>\n",
       "      <td>George Washington</td>\n",
       "      <td>Unaffiliated</td>\n",
       "      <td>First Inaugural Address</td>\n",
       "      <td>Fellow Citizens of the Senate and the House of...</td>\n",
       "      <td>0.206467</td>\n",
       "      <td>0.428960</td>\n",
       "      <td>5</td>\n",
       "      <td>0.928934</td>\n",
       "      <td>Public power and duty</td>\n",
       "      <td>1789-1799: New Democratic Nation</td>\n",
       "      <td>college-level or higher</td>\n",
       "    </tr>\n",
       "    <tr>\n",
       "      <th>1</th>\n",
       "      <td>1789-10-03</td>\n",
       "      <td>George Washington</td>\n",
       "      <td>Unaffiliated</td>\n",
       "      <td>Thanksgiving Proclamation</td>\n",
       "      <td>Whereas it is the duty of all Nations to ackno...</td>\n",
       "      <td>0.263889</td>\n",
       "      <td>0.470370</td>\n",
       "      <td>5</td>\n",
       "      <td>0.894471</td>\n",
       "      <td>Public power and duty</td>\n",
       "      <td>1789-1799: New Democratic Nation</td>\n",
       "      <td>college-level or higher</td>\n",
       "    </tr>\n",
       "    <tr>\n",
       "      <th>2</th>\n",
       "      <td>1790-01-08</td>\n",
       "      <td>George Washington</td>\n",
       "      <td>Unaffiliated</td>\n",
       "      <td>First Annual Message to Congress</td>\n",
       "      <td>Fellow Citizens of the Senate and House of Rep...</td>\n",
       "      <td>0.203224</td>\n",
       "      <td>0.443704</td>\n",
       "      <td>5</td>\n",
       "      <td>0.772133</td>\n",
       "      <td>Public power and duty</td>\n",
       "      <td>1789-1799: New Democratic Nation</td>\n",
       "      <td>college-level or higher</td>\n",
       "    </tr>\n",
       "    <tr>\n",
       "      <th>3</th>\n",
       "      <td>1790-12-08</td>\n",
       "      <td>George Washington</td>\n",
       "      <td>Unaffiliated</td>\n",
       "      <td>Second Annual Message to Congress</td>\n",
       "      <td>Fellow citizens of the Senate and House of Rep...</td>\n",
       "      <td>0.173927</td>\n",
       "      <td>0.464649</td>\n",
       "      <td>5</td>\n",
       "      <td>0.686276</td>\n",
       "      <td>Public power and duty</td>\n",
       "      <td>1789-1799: New Democratic Nation</td>\n",
       "      <td>college-level or higher</td>\n",
       "    </tr>\n",
       "    <tr>\n",
       "      <th>4</th>\n",
       "      <td>1790-12-29</td>\n",
       "      <td>George Washington</td>\n",
       "      <td>Unaffiliated</td>\n",
       "      <td>Talk to the Chiefs and Counselors of the Senec...</td>\n",
       "      <td>I the President of the United States, by my ow...</td>\n",
       "      <td>0.097168</td>\n",
       "      <td>0.485468</td>\n",
       "      <td>6</td>\n",
       "      <td>0.407323</td>\n",
       "      <td>Laws, treaties, and action</td>\n",
       "      <td>1789-1799: New Democratic Nation</td>\n",
       "      <td>12th and 13th grade</td>\n",
       "    </tr>\n",
       "  </tbody>\n",
       "</table>\n",
       "</div>"
      ],
      "text/plain": [
       "         Date          President         Party  \\\n",
       "0  1789-04-30  George Washington  Unaffiliated   \n",
       "1  1789-10-03  George Washington  Unaffiliated   \n",
       "2  1790-01-08  George Washington  Unaffiliated   \n",
       "3  1790-12-08  George Washington  Unaffiliated   \n",
       "4  1790-12-29  George Washington  Unaffiliated   \n",
       "\n",
       "                                        Speech Title  \\\n",
       "0                            First Inaugural Address   \n",
       "1                          Thanksgiving Proclamation   \n",
       "2                   First Annual Message to Congress   \n",
       "3                  Second Annual Message to Congress   \n",
       "4  Talk to the Chiefs and Counselors of the Senec...   \n",
       "\n",
       "                                          Transcript  polarity  subjectivity  \\\n",
       "0  Fellow Citizens of the Senate and the House of...  0.206467      0.428960   \n",
       "1  Whereas it is the duty of all Nations to ackno...  0.263889      0.470370   \n",
       "2  Fellow Citizens of the Senate and House of Rep...  0.203224      0.443704   \n",
       "3  Fellow citizens of the Senate and House of Rep...  0.173927      0.464649   \n",
       "4  I the President of the United States, by my ow...  0.097168      0.485468   \n",
       "\n",
       "   Topic  Topic_Percent              Topic_Category  \\\n",
       "0      5       0.928934       Public power and duty   \n",
       "1      5       0.894471       Public power and duty   \n",
       "2      5       0.772133       Public power and duty   \n",
       "3      5       0.686276       Public power and duty   \n",
       "4      6       0.407323  Laws, treaties, and action   \n",
       "\n",
       "                  Historical_Period              grade_level  \n",
       "0  1789-1799: New Democratic Nation  college-level or higher  \n",
       "1  1789-1799: New Democratic Nation  college-level or higher  \n",
       "2  1789-1799: New Democratic Nation  college-level or higher  \n",
       "3  1789-1799: New Democratic Nation  college-level or higher  \n",
       "4  1789-1799: New Democratic Nation      12th and 13th grade  "
      ]
     },
     "execution_count": 105,
     "metadata": {},
     "output_type": "execute_result"
    }
   ],
   "source": [
    "potus_speech_master_FINAL.head()"
   ]
  },
  {
   "cell_type": "code",
   "execution_count": 106,
   "metadata": {},
   "outputs": [],
   "source": [
    "# Save the master database for all speeches with sentiment, topics, & readability level as csv\n",
    "#  to be pulled into Tableau for visualization\n",
    "\n",
    "potus_speech_master_FINAL.to_csv('csv/potus_speech_master_FINAL.csv')"
   ]
  }
 ],
 "metadata": {
  "environment": {
   "name": "common-cpu.m54",
   "type": "gcloud",
   "uri": "gcr.io/deeplearning-platform-release/base-cpu:m54"
  },
  "kernelspec": {
   "display_name": "Python 3",
   "language": "python",
   "name": "python3"
  },
  "language_info": {
   "codemirror_mode": {
    "name": "ipython",
    "version": 3
   },
   "file_extension": ".py",
   "mimetype": "text/x-python",
   "name": "python",
   "nbconvert_exporter": "python",
   "pygments_lexer": "ipython3",
   "version": "3.7.4"
  }
 },
 "nbformat": 4,
 "nbformat_minor": 4
}
